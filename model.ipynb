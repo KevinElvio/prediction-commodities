{
 "cells": [
  {
   "cell_type": "markdown",
   "id": "08ea7adf",
   "metadata": {},
   "source": [
    "MODEL KOMODITI"
   ]
  },
  {
   "cell_type": "code",
   "execution_count": 1,
   "id": "b4373343",
   "metadata": {},
   "outputs": [
    {
     "name": "stdout",
     "output_type": "stream",
     "text": [
      "Requirement already satisfied: NumPy in d:\\kuliah\\aku cinta ngoding\\model-prediksi-komoditi\\.venv\\lib\\site-packages (from -r requirements.txt (line 1)) (2.1.3)\n",
      "Requirement already satisfied: Pandas in d:\\kuliah\\aku cinta ngoding\\model-prediksi-komoditi\\.venv\\lib\\site-packages (from -r requirements.txt (line 2)) (2.2.3)\n",
      "Requirement already satisfied: Scikit-learn in d:\\kuliah\\aku cinta ngoding\\model-prediksi-komoditi\\.venv\\lib\\site-packages (from -r requirements.txt (line 3)) (1.6.1)\n",
      "Requirement already satisfied: TensorFlow in d:\\kuliah\\aku cinta ngoding\\model-prediksi-komoditi\\.venv\\lib\\site-packages (from -r requirements.txt (line 4)) (2.19.0)\n",
      "Requirement already satisfied: python-dateutil>=2.8.2 in d:\\kuliah\\aku cinta ngoding\\model-prediksi-komoditi\\.venv\\lib\\site-packages (from Pandas->-r requirements.txt (line 2)) (2.9.0.post0)\n",
      "Requirement already satisfied: pytz>=2020.1 in d:\\kuliah\\aku cinta ngoding\\model-prediksi-komoditi\\.venv\\lib\\site-packages (from Pandas->-r requirements.txt (line 2)) (2025.2)\n",
      "Requirement already satisfied: tzdata>=2022.7 in d:\\kuliah\\aku cinta ngoding\\model-prediksi-komoditi\\.venv\\lib\\site-packages (from Pandas->-r requirements.txt (line 2)) (2025.2)\n",
      "Requirement already satisfied: scipy>=1.6.0 in d:\\kuliah\\aku cinta ngoding\\model-prediksi-komoditi\\.venv\\lib\\site-packages (from Scikit-learn->-r requirements.txt (line 3)) (1.15.3)\n",
      "Requirement already satisfied: joblib>=1.2.0 in d:\\kuliah\\aku cinta ngoding\\model-prediksi-komoditi\\.venv\\lib\\site-packages (from Scikit-learn->-r requirements.txt (line 3)) (1.5.1)\n",
      "Requirement already satisfied: threadpoolctl>=3.1.0 in d:\\kuliah\\aku cinta ngoding\\model-prediksi-komoditi\\.venv\\lib\\site-packages (from Scikit-learn->-r requirements.txt (line 3)) (3.6.0)\n",
      "Requirement already satisfied: absl-py>=1.0.0 in d:\\kuliah\\aku cinta ngoding\\model-prediksi-komoditi\\.venv\\lib\\site-packages (from TensorFlow->-r requirements.txt (line 4)) (2.3.0)\n",
      "Requirement already satisfied: astunparse>=1.6.0 in d:\\kuliah\\aku cinta ngoding\\model-prediksi-komoditi\\.venv\\lib\\site-packages (from TensorFlow->-r requirements.txt (line 4)) (1.6.3)\n",
      "Requirement already satisfied: flatbuffers>=24.3.25 in d:\\kuliah\\aku cinta ngoding\\model-prediksi-komoditi\\.venv\\lib\\site-packages (from TensorFlow->-r requirements.txt (line 4)) (25.2.10)\n",
      "Requirement already satisfied: gast!=0.5.0,!=0.5.1,!=0.5.2,>=0.2.1 in d:\\kuliah\\aku cinta ngoding\\model-prediksi-komoditi\\.venv\\lib\\site-packages (from TensorFlow->-r requirements.txt (line 4)) (0.6.0)\n",
      "Requirement already satisfied: google-pasta>=0.1.1 in d:\\kuliah\\aku cinta ngoding\\model-prediksi-komoditi\\.venv\\lib\\site-packages (from TensorFlow->-r requirements.txt (line 4)) (0.2.0)\n",
      "Requirement already satisfied: libclang>=13.0.0 in d:\\kuliah\\aku cinta ngoding\\model-prediksi-komoditi\\.venv\\lib\\site-packages (from TensorFlow->-r requirements.txt (line 4)) (18.1.1)\n",
      "Requirement already satisfied: opt-einsum>=2.3.2 in d:\\kuliah\\aku cinta ngoding\\model-prediksi-komoditi\\.venv\\lib\\site-packages (from TensorFlow->-r requirements.txt (line 4)) (3.4.0)\n",
      "Requirement already satisfied: packaging in d:\\kuliah\\aku cinta ngoding\\model-prediksi-komoditi\\.venv\\lib\\site-packages (from TensorFlow->-r requirements.txt (line 4)) (25.0)\n",
      "Requirement already satisfied: protobuf!=4.21.0,!=4.21.1,!=4.21.2,!=4.21.3,!=4.21.4,!=4.21.5,<6.0.0dev,>=3.20.3 in d:\\kuliah\\aku cinta ngoding\\model-prediksi-komoditi\\.venv\\lib\\site-packages (from TensorFlow->-r requirements.txt (line 4)) (5.29.5)\n",
      "Requirement already satisfied: requests<3,>=2.21.0 in d:\\kuliah\\aku cinta ngoding\\model-prediksi-komoditi\\.venv\\lib\\site-packages (from TensorFlow->-r requirements.txt (line 4)) (2.32.3)\n",
      "Requirement already satisfied: setuptools in d:\\kuliah\\aku cinta ngoding\\model-prediksi-komoditi\\.venv\\lib\\site-packages (from TensorFlow->-r requirements.txt (line 4)) (65.5.0)\n",
      "Requirement already satisfied: six>=1.12.0 in d:\\kuliah\\aku cinta ngoding\\model-prediksi-komoditi\\.venv\\lib\\site-packages (from TensorFlow->-r requirements.txt (line 4)) (1.17.0)\n",
      "Requirement already satisfied: termcolor>=1.1.0 in d:\\kuliah\\aku cinta ngoding\\model-prediksi-komoditi\\.venv\\lib\\site-packages (from TensorFlow->-r requirements.txt (line 4)) (3.1.0)\n",
      "Requirement already satisfied: typing-extensions>=3.6.6 in d:\\kuliah\\aku cinta ngoding\\model-prediksi-komoditi\\.venv\\lib\\site-packages (from TensorFlow->-r requirements.txt (line 4)) (4.14.0)\n",
      "Requirement already satisfied: wrapt>=1.11.0 in d:\\kuliah\\aku cinta ngoding\\model-prediksi-komoditi\\.venv\\lib\\site-packages (from TensorFlow->-r requirements.txt (line 4)) (1.17.2)\n",
      "Requirement already satisfied: grpcio<2.0,>=1.24.3 in d:\\kuliah\\aku cinta ngoding\\model-prediksi-komoditi\\.venv\\lib\\site-packages (from TensorFlow->-r requirements.txt (line 4)) (1.72.1)\n",
      "Requirement already satisfied: tensorboard~=2.19.0 in d:\\kuliah\\aku cinta ngoding\\model-prediksi-komoditi\\.venv\\lib\\site-packages (from TensorFlow->-r requirements.txt (line 4)) (2.19.0)\n",
      "Requirement already satisfied: keras>=3.5.0 in d:\\kuliah\\aku cinta ngoding\\model-prediksi-komoditi\\.venv\\lib\\site-packages (from TensorFlow->-r requirements.txt (line 4)) (3.10.0)\n",
      "Requirement already satisfied: h5py>=3.11.0 in d:\\kuliah\\aku cinta ngoding\\model-prediksi-komoditi\\.venv\\lib\\site-packages (from TensorFlow->-r requirements.txt (line 4)) (3.13.0)\n",
      "Requirement already satisfied: ml-dtypes<1.0.0,>=0.5.1 in d:\\kuliah\\aku cinta ngoding\\model-prediksi-komoditi\\.venv\\lib\\site-packages (from TensorFlow->-r requirements.txt (line 4)) (0.5.1)\n",
      "Requirement already satisfied: tensorflow-io-gcs-filesystem>=0.23.1 in d:\\kuliah\\aku cinta ngoding\\model-prediksi-komoditi\\.venv\\lib\\site-packages (from TensorFlow->-r requirements.txt (line 4)) (0.31.0)\n",
      "Requirement already satisfied: charset-normalizer<4,>=2 in d:\\kuliah\\aku cinta ngoding\\model-prediksi-komoditi\\.venv\\lib\\site-packages (from requests<3,>=2.21.0->TensorFlow->-r requirements.txt (line 4)) (3.4.2)\n",
      "Requirement already satisfied: idna<4,>=2.5 in d:\\kuliah\\aku cinta ngoding\\model-prediksi-komoditi\\.venv\\lib\\site-packages (from requests<3,>=2.21.0->TensorFlow->-r requirements.txt (line 4)) (3.10)\n",
      "Requirement already satisfied: urllib3<3,>=1.21.1 in d:\\kuliah\\aku cinta ngoding\\model-prediksi-komoditi\\.venv\\lib\\site-packages (from requests<3,>=2.21.0->TensorFlow->-r requirements.txt (line 4)) (2.4.0)\n",
      "Requirement already satisfied: certifi>=2017.4.17 in d:\\kuliah\\aku cinta ngoding\\model-prediksi-komoditi\\.venv\\lib\\site-packages (from requests<3,>=2.21.0->TensorFlow->-r requirements.txt (line 4)) (2025.4.26)\n",
      "Requirement already satisfied: markdown>=2.6.8 in d:\\kuliah\\aku cinta ngoding\\model-prediksi-komoditi\\.venv\\lib\\site-packages (from tensorboard~=2.19.0->TensorFlow->-r requirements.txt (line 4)) (3.8)\n",
      "Requirement already satisfied: tensorboard-data-server<0.8.0,>=0.7.0 in d:\\kuliah\\aku cinta ngoding\\model-prediksi-komoditi\\.venv\\lib\\site-packages (from tensorboard~=2.19.0->TensorFlow->-r requirements.txt (line 4)) (0.7.2)\n",
      "Requirement already satisfied: werkzeug>=1.0.1 in d:\\kuliah\\aku cinta ngoding\\model-prediksi-komoditi\\.venv\\lib\\site-packages (from tensorboard~=2.19.0->TensorFlow->-r requirements.txt (line 4)) (3.1.3)\n",
      "Requirement already satisfied: wheel<1.0,>=0.23.0 in d:\\kuliah\\aku cinta ngoding\\model-prediksi-komoditi\\.venv\\lib\\site-packages (from astunparse>=1.6.0->TensorFlow->-r requirements.txt (line 4)) (0.45.1)\n",
      "Requirement already satisfied: rich in d:\\kuliah\\aku cinta ngoding\\model-prediksi-komoditi\\.venv\\lib\\site-packages (from keras>=3.5.0->TensorFlow->-r requirements.txt (line 4)) (14.0.0)\n",
      "Requirement already satisfied: namex in d:\\kuliah\\aku cinta ngoding\\model-prediksi-komoditi\\.venv\\lib\\site-packages (from keras>=3.5.0->TensorFlow->-r requirements.txt (line 4)) (0.1.0)\n",
      "Requirement already satisfied: optree in d:\\kuliah\\aku cinta ngoding\\model-prediksi-komoditi\\.venv\\lib\\site-packages (from keras>=3.5.0->TensorFlow->-r requirements.txt (line 4)) (0.16.0)\n",
      "Requirement already satisfied: MarkupSafe>=2.1.1 in d:\\kuliah\\aku cinta ngoding\\model-prediksi-komoditi\\.venv\\lib\\site-packages (from werkzeug>=1.0.1->tensorboard~=2.19.0->TensorFlow->-r requirements.txt (line 4)) (3.0.2)\n",
      "Requirement already satisfied: markdown-it-py>=2.2.0 in d:\\kuliah\\aku cinta ngoding\\model-prediksi-komoditi\\.venv\\lib\\site-packages (from rich->keras>=3.5.0->TensorFlow->-r requirements.txt (line 4)) (3.0.0)\n",
      "Requirement already satisfied: pygments<3.0.0,>=2.13.0 in d:\\kuliah\\aku cinta ngoding\\model-prediksi-komoditi\\.venv\\lib\\site-packages (from rich->keras>=3.5.0->TensorFlow->-r requirements.txt (line 4)) (2.19.1)\n",
      "Requirement already satisfied: mdurl~=0.1 in d:\\kuliah\\aku cinta ngoding\\model-prediksi-komoditi\\.venv\\lib\\site-packages (from markdown-it-py>=2.2.0->rich->keras>=3.5.0->TensorFlow->-r requirements.txt (line 4)) (0.1.2)\n",
      "Note: you may need to restart the kernel to use updated packages.\n"
     ]
    }
   ],
   "source": [
    "%pip install -r requirements.txt"
   ]
  },
  {
   "cell_type": "code",
   "execution_count": 1,
   "id": "85db51b3",
   "metadata": {},
   "outputs": [],
   "source": [
    "import pandas as pd\n",
    "import numpy as np\n",
    "import tensorflow as tf\n",
    "from tensorflow import keras\n",
    "import os"
   ]
  },
  {
   "cell_type": "markdown",
   "id": "e7be4018",
   "metadata": {},
   "source": [
    "Clean Data dan Membuat Harga Rata Rata"
   ]
  },
  {
   "cell_type": "code",
   "execution_count": 2,
   "id": "b629a503",
   "metadata": {},
   "outputs": [
    {
     "name": "stdout",
     "output_type": "stream",
     "text": [
      "        Tanggal  BawangMerah  BawangPutihBonggol  BerasMedium  BerasPremium  \\\n",
      "0      1/1/2022  29203.23529         29672.64706  11048.23529   12609.41176   \n",
      "1      1/2/2022  29352.64706         29648.82353  11053.23529   12622.35294   \n",
      "2      1/3/2022  29137.05882         29587.94118  11046.17647   12587.05882   \n",
      "3      1/4/2022  29277.64706         29542.94118  11044.41176   12595.58824   \n",
      "4      1/5/2022  29241.47059         29442.05882  11026.76471   12608.82353   \n",
      "...         ...          ...                 ...          ...           ...   \n",
      "999   9/26/2024  29904.41176         40520.29412  13807.35294   15779.11765   \n",
      "1000  9/27/2024  29957.05882         40485.29412  13813.52941   15787.64706   \n",
      "1001  9/28/2024  29914.11765         40472.05882  13800.88235   15785.29412   \n",
      "1002  9/29/2024  29968.52941         40472.05882  13818.82353   15772.05882   \n",
      "1003  9/30/2024  29922.05882         40540.58824  13798.23529   15806.17647   \n",
      "\n",
      "      CabaiMerahKeriting  CabaiRawitMerah  DagingAyamRas  DagingSapiMurni  \\\n",
      "0            49422.94118      83606.56250    37212.35294      127581.1765   \n",
      "1            48924.41176      82543.12500    37287.35294      127945.5882   \n",
      "2            47989.11765      80981.25000    37383.82353      126814.4118   \n",
      "3            47141.76471      81434.51613    37759.41176      127340.8824   \n",
      "4            46205.00000      78353.93939    37518.82353      127244.4118   \n",
      "...                  ...              ...            ...              ...   \n",
      "999          36931.47059      51838.18182    36362.05882      136795.8824   \n",
      "1000         36888.23529      50700.30303    36287.35294      137037.9412   \n",
      "1001         36612.05882      50822.72727    36251.76471      136658.5294   \n",
      "1002         36983.52941      51534.24242    36282.94118      136882.3529   \n",
      "1003         36364.41176      50476.96970    36230.00000      136515.5882   \n",
      "\n",
      "      GulaKonsumsi  MinyakGorengCurah  MinyakGorengKemasanSederhana  \\\n",
      "0      13529.41176                NaN                   19440.88235   \n",
      "1      13519.11765                NaN                   19533.23529   \n",
      "2      13537.94118                NaN                   19512.35294   \n",
      "3      13529.11765                NaN                   19462.05882   \n",
      "4      13557.35294                NaN                   19531.17647   \n",
      "...            ...                ...                           ...   \n",
      "999    17957.35294        16463.33333                   18350.88235   \n",
      "1000   17973.52941        16729.11765                   18277.64706   \n",
      "1001   17976.76471        16453.63636                   18347.05882   \n",
      "1002   17932.05882        16465.75758                   18395.58824   \n",
      "1003   17993.23529        16718.52941                   18380.29412   \n",
      "\n",
      "      TelurAyamRas TepungTerigu(Curah)  \n",
      "0      29852.64706         8891.212121  \n",
      "1      29960.00000         8881.818182  \n",
      "2      29737.05882          8939.69697  \n",
      "3      29628.23529         8930.606061  \n",
      "4      29495.29412         8965.151515  \n",
      "...            ...                 ...  \n",
      "999    29250.00000         10386.66667  \n",
      "1000   29395.58824         10392.42424  \n",
      "1001   29257.94118         10380.90909  \n",
      "1002   29328.82353          10307.8125  \n",
      "1003   29314.70588          10416.9697  \n",
      "\n",
      "[1004 rows x 14 columns]\n"
     ]
    }
   ],
   "source": [
    "dataSet = pd.read_csv('data/dataset_bersih.csv')\n",
    "df = pd.DataFrame(dataSet)\n",
    "\n",
    "print (df)\n"
   ]
  },
  {
   "cell_type": "markdown",
   "id": "10d16b17",
   "metadata": {},
   "source": [
    "Preprocecing"
   ]
  },
  {
   "cell_type": "code",
   "execution_count": 3,
   "id": "91c39a58",
   "metadata": {},
   "outputs": [
    {
     "name": "stdout",
     "output_type": "stream",
     "text": [
      "        Tanggal  BawangMerah  BawangPutihBonggol  BerasMedium  BerasPremium  \\\n",
      "0      1/1/2022  29203.23529         29672.64706  11048.23529   12609.41176   \n",
      "1      1/2/2022  29352.64706         29648.82353  11053.23529   12622.35294   \n",
      "2      1/3/2022  29137.05882         29587.94118  11046.17647   12587.05882   \n",
      "3      1/4/2022  29277.64706         29542.94118  11044.41176   12595.58824   \n",
      "4      1/5/2022  29241.47059         29442.05882  11026.76471   12608.82353   \n",
      "...         ...          ...                 ...          ...           ...   \n",
      "999   9/26/2024  29904.41176         40520.29412  13807.35294   15779.11765   \n",
      "1000  9/27/2024  29957.05882         40485.29412  13813.52941   15787.64706   \n",
      "1001  9/28/2024  29914.11765         40472.05882  13800.88235   15785.29412   \n",
      "1002  9/29/2024  29968.52941         40472.05882  13818.82353   15772.05882   \n",
      "1003  9/30/2024  29922.05882         40540.58824  13798.23529   15806.17647   \n",
      "\n",
      "      CabaiMerahKeriting  CabaiRawitMerah  DagingAyamRas  DagingSapiMurni  \\\n",
      "0            49422.94118      83606.56250    37212.35294      127581.1765   \n",
      "1            48924.41176      82543.12500    37287.35294      127945.5882   \n",
      "2            47989.11765      80981.25000    37383.82353      126814.4118   \n",
      "3            47141.76471      81434.51613    37759.41176      127340.8824   \n",
      "4            46205.00000      78353.93939    37518.82353      127244.4118   \n",
      "...                  ...              ...            ...              ...   \n",
      "999          36931.47059      51838.18182    36362.05882      136795.8824   \n",
      "1000         36888.23529      50700.30303    36287.35294      137037.9412   \n",
      "1001         36612.05882      50822.72727    36251.76471      136658.5294   \n",
      "1002         36983.52941      51534.24242    36282.94118      136882.3529   \n",
      "1003         36364.41176      50476.96970    36230.00000      136515.5882   \n",
      "\n",
      "      GulaKonsumsi  MinyakGorengCurah  MinyakGorengKemasanSederhana  \\\n",
      "0      13529.41176                NaN                   19440.88235   \n",
      "1      13519.11765                NaN                   19533.23529   \n",
      "2      13537.94118                NaN                   19512.35294   \n",
      "3      13529.11765                NaN                   19462.05882   \n",
      "4      13557.35294                NaN                   19531.17647   \n",
      "...            ...                ...                           ...   \n",
      "999    17957.35294        16463.33333                   18350.88235   \n",
      "1000   17973.52941        16729.11765                   18277.64706   \n",
      "1001   17976.76471        16453.63636                   18347.05882   \n",
      "1002   17932.05882        16465.75758                   18395.58824   \n",
      "1003   17993.23529        16718.52941                   18380.29412   \n",
      "\n",
      "      TelurAyamRas TepungTerigu(Curah)  \n",
      "0      29852.64706         8891.212121  \n",
      "1      29960.00000         8881.818182  \n",
      "2      29737.05882          8939.69697  \n",
      "3      29628.23529         8930.606061  \n",
      "4      29495.29412         8965.151515  \n",
      "...            ...                 ...  \n",
      "999    29250.00000         10386.66667  \n",
      "1000   29395.58824         10392.42424  \n",
      "1001   29257.94118         10380.90909  \n",
      "1002   29328.82353          10307.8125  \n",
      "1003   29314.70588          10416.9697  \n",
      "\n",
      "[1004 rows x 14 columns]\n"
     ]
    },
    {
     "name": "stderr",
     "output_type": "stream",
     "text": [
      "C:\\Users\\kevin\\AppData\\Local\\Temp\\ipykernel_28500\\2994634767.py:1: FutureWarning: DataFrame.interpolate with object dtype is deprecated and will raise in a future version. Call obj.infer_objects(copy=False) before interpolating instead.\n",
      "  df_interpolate = df.interpolate()\n"
     ]
    }
   ],
   "source": [
    "df_interpolate = df.interpolate()\n",
    "print(df_interpolate)"
   ]
  },
  {
   "cell_type": "code",
   "execution_count": 4,
   "id": "7893723b",
   "metadata": {},
   "outputs": [],
   "source": [
    "df_interpolate.to_csv('data/dataset_clean.csv', index=False)"
   ]
  }
 ],
 "metadata": {
  "kernelspec": {
   "display_name": ".venv",
   "language": "python",
   "name": "python3"
  },
  "language_info": {
   "codemirror_mode": {
    "name": "ipython",
    "version": 3
   },
   "file_extension": ".py",
   "mimetype": "text/x-python",
   "name": "python",
   "nbconvert_exporter": "python",
   "pygments_lexer": "ipython3",
   "version": "3.11.4"
  }
 },
 "nbformat": 4,
 "nbformat_minor": 5
}
